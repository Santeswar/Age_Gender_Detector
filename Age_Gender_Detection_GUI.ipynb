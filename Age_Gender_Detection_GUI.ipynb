{
 "cells": [
  {
   "cell_type": "markdown",
   "id": "7c198b8c",
   "metadata": {},
   "source": [
    "# importing neccessary libraires"
   ]
  },
  {
   "cell_type": "code",
   "execution_count": 2,
   "id": "3dcd8db7",
   "metadata": {},
   "outputs": [],
   "source": [
    "\n",
    "from cProfile import label\n",
    "import imp\n",
    "import tkinter as tk\n",
    "from tkinter import filedialog\n",
    "from tkinter import *\n",
    "from tkinter import font\n",
    "from PIL import Image, ImageTk\n",
    "import numpy as np\n",
    "import numpy"
   ]
  },
  {
   "cell_type": "markdown",
   "id": "b116a606",
   "metadata": {},
   "source": [
    "# Initializing the GUI"
   ]
  },
  {
   "cell_type": "code",
   "execution_count": 3,
   "id": "af018824",
   "metadata": {},
   "outputs": [],
   "source": [
    "top = tk.Tk()\n",
    "top.geometry('800x600')\n",
    "top.title('Age & Gender Detector')\n",
    "top.configure(background='#CDCDCD')"
   ]
  },
  {
   "cell_type": "markdown",
   "id": "50073407",
   "metadata": {},
   "source": [
    "# Initializing the labels (1 for age and 1 for gender)"
   ]
  },
  {
   "cell_type": "code",
   "execution_count": 4,
   "id": "59835d3e",
   "metadata": {},
   "outputs": [],
   "source": [
    "label1 = Label(top, background='#CDCDCD', font=('arial', 15, 'bold'))\n",
    "label2 = Label(top, background='#CDCDCD', font=('arial', 15, 'bold'))\n",
    "sign_image = Label(top)"
   ]
  },
  {
   "cell_type": "markdown",
   "id": "aceb9220",
   "metadata": {},
   "source": [
    "# Loading the Model"
   ]
  },
  {
   "cell_type": "code",
   "execution_count": 5,
   "id": "5b13a9a4",
   "metadata": {},
   "outputs": [],
   "source": [
    "from keras.models import load_model\n",
    "model=load_model('Age_Gender_Detection.h5')"
   ]
  },
  {
   "cell_type": "markdown",
   "id": "d79899ed",
   "metadata": {},
   "source": [
    "# Defining Detect function \n",
    "### which detects the age and gender of the person in image using the trained model"
   ]
  },
  {
   "cell_type": "code",
   "execution_count": 6,
   "id": "9da91e83",
   "metadata": {},
   "outputs": [],
   "source": [
    "def Detect(file_path):\n",
    "    global label_packed\n",
    "    image = Image.open(file_path)\n",
    "    image = image.resize((48,48))\n",
    "    image = numpy.expand_dims(image, axis=0)\n",
    "    image = np.array(image)\n",
    "    image = np.delete(image,0,1)\n",
    "    image = np.resize(image, (48,48,3))\n",
    "    print(image.shape)\n",
    "    sex_f = ['Male', 'Female']\n",
    "    image = np.array([image])/255\n",
    "    pred = model.predict(image)\n",
    "    age = int(np.round(pred[1][0]))\n",
    "    sex = int(np.round(pred[0][0]))\n",
    "    print(\"Predicted Age is \"+ str(age))\n",
    "    print(\"Predicted Gender is \"+ sex_f[sex])\n",
    "    label1.configure(foreground=\"#011638\", text=age)\n",
    "    label2.configure(foreground=\"#011638\", text=sex_f[sex])"
   ]
  },
  {
   "cell_type": "markdown",
   "id": "4ef74bf9",
   "metadata": {},
   "source": [
    "# Defining show Detect button function"
   ]
  },
  {
   "cell_type": "code",
   "execution_count": 7,
   "id": "9efeb929",
   "metadata": {},
   "outputs": [],
   "source": [
    "def show_Detect_button(file_path):\n",
    "    Detect_b = Button(top, text=\"Detect image\", command=lambda: Detect(file_path), padx=10, pady=5)\n",
    "    Detect_b.configure(background=\"#364156\", foreground=\"white\", font=('arial',  10, 'bold'))\n",
    "    Detect_b.place(relx=0.79, rely=0.46)"
   ]
  },
  {
   "cell_type": "markdown",
   "id": "73b784aa",
   "metadata": {},
   "source": [
    "# Defining upload image function"
   ]
  },
  {
   "cell_type": "code",
   "execution_count": 8,
   "id": "8c945a51",
   "metadata": {},
   "outputs": [],
   "source": [
    "def upload_image():\n",
    "    try:\n",
    "        file_path=filedialog.askopenfilename()\n",
    "        uploaded = Image.open(file_path)\n",
    "        uploaded.thumbnail(((top.winfo_width()/2.25), (top.winfo_height()/2.25)))\n",
    "        im = ImageTk.PhotoImage(uploaded)\n",
    "        \n",
    "        sign_image.configure(image=im)\n",
    "        sign_image.image=im\n",
    "        label1.configure(text='')\n",
    "        label2.configure(text='')\n",
    "        show_Detect_button(file_path)\n",
    "    except:\n",
    "        pass"
   ]
  },
  {
   "cell_type": "code",
   "execution_count": 9,
   "id": "645984f2",
   "metadata": {},
   "outputs": [],
   "source": [
    "upload = Button(top, text=\"upload an image\", command=upload_image, padx=10, pady=5)\n",
    "upload.configure(background=\"#364156\", foreground=\"white\", font=('arial', 10, 'bold'))\n",
    "upload.pack(side='bottom', pady=50)\n",
    "sign_image.pack(side='bottom', expand=True)"
   ]
  },
  {
   "cell_type": "code",
   "execution_count": null,
   "id": "0a7aa006",
   "metadata": {},
   "outputs": [
    {
     "name": "stdout",
     "output_type": "stream",
     "text": [
      "(48, 48, 3)\n",
      "Predicted Age is 24\n",
      "Predicted Gender is Female\n",
      "(48, 48, 3)\n",
      "Predicted Age is 42\n",
      "Predicted Gender is Female\n",
      "(48, 48, 3)\n",
      "Predicted Age is 40\n",
      "Predicted Gender is Male\n",
      "(48, 48, 3)\n",
      "Predicted Age is 55\n",
      "Predicted Gender is Male\n",
      "(48, 48, 3)\n",
      "Predicted Age is 52\n",
      "Predicted Gender is Female\n",
      "(48, 48, 3)\n",
      "Predicted Age is 29\n",
      "Predicted Gender is Female\n",
      "(48, 48, 3)\n",
      "Predicted Age is 29\n",
      "Predicted Gender is Female\n",
      "(48, 48, 3)\n",
      "Predicted Age is 31\n",
      "Predicted Gender is Female\n",
      "(48, 48, 3)\n",
      "Predicted Age is 55\n",
      "Predicted Gender is Male\n",
      "(48, 48, 3)\n",
      "Predicted Age is 32\n",
      "Predicted Gender is Female\n"
     ]
    }
   ],
   "source": [
    "label1.pack(side='bottom', expand=True)\n",
    "label2.pack(side='bottom', expand=True)\n",
    "heading = Label(top, text=\"Age and Gender Detector\", pady=20, font=('arial', 20, 'bold'))\n",
    "heading.configure(background='#CDCDCD', foreground='#364156')\n",
    "heading.pack()\n",
    "top.mainloop()"
   ]
  },
  {
   "cell_type": "code",
   "execution_count": null,
   "id": "fe01edbd",
   "metadata": {},
   "outputs": [],
   "source": []
  },
  {
   "cell_type": "code",
   "execution_count": null,
   "id": "925581c2",
   "metadata": {},
   "outputs": [],
   "source": []
  }
 ],
 "metadata": {
  "kernelspec": {
   "display_name": "Python 3",
   "language": "python",
   "name": "python3"
  },
  "language_info": {
   "codemirror_mode": {
    "name": "ipython",
    "version": 3
   },
   "file_extension": ".py",
   "mimetype": "text/x-python",
   "name": "python",
   "nbconvert_exporter": "python",
   "pygments_lexer": "ipython3",
   "version": "3.8.8"
  }
 },
 "nbformat": 4,
 "nbformat_minor": 5
}
